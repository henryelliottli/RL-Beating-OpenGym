{
 "cells": [
  {
   "cell_type": "code",
   "execution_count": 1,
   "id": "4ab5372a",
   "metadata": {},
   "outputs": [],
   "source": [
    "from torch import nn\n",
    "import torch\n",
    "import itertools\n",
    "import numpy as np\n",
    "import random\n",
    "import gym\n",
    "import os\n",
    "import sys\n",
    "from collections import deque\n",
    "from sklearn.manifold import TSNE\n",
    "import matplotlib\n",
    "#matplotlib.use('TkAgg')\n",
    "from matplotlib import cm\n",
    "import matplotlib.pyplot as plt\n",
    "\n",
    "sys.path.append('../')\n",
    "from model import DQN\n",
    "from model_utility import init_weights"
   ]
  },
  {
   "cell_type": "code",
   "execution_count": 2,
   "id": "f80f55b6",
   "metadata": {},
   "outputs": [],
   "source": [
    "from make_env import *"
   ]
  },
  {
   "cell_type": "code",
   "execution_count": 3,
   "id": "b6541bdf",
   "metadata": {},
   "outputs": [],
   "source": [
    "GAME = 'Boxing'\n",
    "SAVED_MODEL_PATH = '../boxing_final_experiment/boxing_model' \n",
    "#DEVICE = torch.device(\"cuda:0\" if torch.cuda.is_available() else \"cpu\")\n",
    "DEVICE = torch.device(\"cpu\")"
   ]
  },
  {
   "cell_type": "code",
   "execution_count": 4,
   "id": "ab6d38a8",
   "metadata": {},
   "outputs": [
    {
     "name": "stdout",
     "output_type": "stream",
     "text": [
      "Boxing\n"
     ]
    }
   ],
   "source": [
    "env = make_env(GAME)\n",
    "image_size = env.observation_space.shape[:2]\n",
    "action_size = env.action_space.n"
   ]
  },
  {
   "cell_type": "code",
   "execution_count": 5,
   "id": "d025892a",
   "metadata": {},
   "outputs": [],
   "source": [
    "def load_model():\n",
    "    model = DQN(image_size, action_size).to(DEVICE)\n",
    "    model.apply(init_weights)\n",
    "    state_dict = torch.load(SAVED_MODEL_PATH, map_location=DEVICE)\n",
    "    model.load_state_dict(state_dict)\n",
    "    return model, env"
   ]
  },
  {
   "cell_type": "code",
   "execution_count": 6,
   "id": "50ae882a",
   "metadata": {},
   "outputs": [],
   "source": [
    "def env_reset(env):\n",
    "    state = env.reset()\n",
    "    state = state.transpose((2, 0, 1))\n",
    "    state = torch.autograd.Variable(torch.from_numpy(state).float().unsqueeze(0))\n",
    "    state = state.to(DEVICE)\n",
    "    return state"
   ]
  },
  {
   "cell_type": "code",
   "execution_count": 7,
   "id": "a5d8ff94",
   "metadata": {},
   "outputs": [],
   "source": [
    "def transform_obs(obs):\n",
    "    obs = obs.transpose((2, 0, 1))\n",
    "    obs = torch.autograd.Variable(torch.from_numpy(obs).float().unsqueeze(0))\n",
    "    return obs\n",
    "\n",
    "def create_random_obs(env, env_reset, num_frames, num_samples, device):\n",
    "    obs = env_reset(env)\n",
    "    frames = deque(maxlen=num_frames)\n",
    "    samples = []\n",
    "    for _ in range(num_samples):\n",
    "        action = env.action_space.sample()\n",
    "    \n",
    "        new_obs, rew, done, _ = env.step(action)\n",
    "        new_obs = transform_obs(new_obs)\n",
    "        transition = (obs, action, rew, done, new_obs)\n",
    "        samples.append(transition)\n",
    "        obs_t = torch.as_tensor(obs, dtype=torch.float32).to(device)\n",
    "        frames.append(obs_t)\n",
    "        obs = new_obs\n",
    "    \n",
    "        if done:\n",
    "            obs = env_reset(env)\n",
    "    return samples"
   ]
  },
  {
   "cell_type": "code",
   "execution_count": 8,
   "id": "c7c5ab16",
   "metadata": {},
   "outputs": [],
   "source": [
    "def action_for_obs(samples, network, device):\n",
    "    q_values_action = []\n",
    "    for sample in samples:\n",
    "        obs = sample[0]\n",
    "        obs = torch.as_tensor(obs, dtype=torch.float32).to(device)\n",
    "        q_values = network(obs)\n",
    "        pred_action = torch.argmax(q_values)\n",
    "        q_values_action.append((q_values.squeeze(0), pred_action))\n",
    "    return q_values_action"
   ]
  },
  {
   "cell_type": "code",
   "execution_count": 12,
   "id": "1948ad8f",
   "metadata": {},
   "outputs": [],
   "source": [
    "def create_tsne_plot(q_values_action):\n",
    "    q_values = [q.detach().numpy() for q, act in q_values_action]\n",
    "    tsne = TSNE(2)\n",
    "    tsne_proj = tsne.fit_transform(q_values)\n",
    "    cmap = cm.get_cmap('tab20')\n",
    "\n",
    "    fig, ax = plt.subplots(figsize=(8, 8))\n",
    "    num_actions = len(q_values_action[0][0])\n",
    "    actions = np.array([act for q, act in q_values_action])\n",
    "    print(len(actions))\n",
    "\n",
    "    for lab in range(num_actions):\n",
    "        indices = actions == lab\n",
    "        ax.scatter(tsne_proj[indices, 0], tsne_proj[indices, 1], \n",
    "               c = np.array(cmap(lab)).reshape(1, 4),\n",
    "               label = lab, \n",
    "               alpha = .5\n",
    "              )\n",
    "    \n",
    "    ax.legend(fontsize='large', markerscale=2)\n",
    "    plt.savefig('boxing_tsne.png')\n",
    "    plt.show()\n",
    "    return"
   ]
  },
  {
   "cell_type": "code",
   "execution_count": 13,
   "id": "5070e6fd",
   "metadata": {},
   "outputs": [],
   "source": [
    "def run(network, env, env_reset, device, num_frame = 100000, num_samples = 1000):\n",
    "    samples = create_random_obs(env, env_reset, num_frame, num_samples, device)\n",
    "    q_values_action = action_for_obs(samples, network, device)\n",
    "    create_tsne_plot(q_values_action)"
   ]
  },
  {
   "cell_type": "code",
   "execution_count": 14,
   "id": "da041aea",
   "metadata": {},
   "outputs": [
    {
     "name": "stdout",
     "output_type": "stream",
     "text": [
      "1000\n"
     ]
    },
    {
     "name": "stderr",
     "output_type": "stream",
     "text": [
      "C:\\Users\\micha\\AppData\\Local\\Temp/ipykernel_20552/1795562609.py:22: UserWarning: Matplotlib is currently using agg, which is a non-GUI backend, so cannot show the figure.\n",
      "  plt.show()\n"
     ]
    }
   ],
   "source": [
    "model, env = load_model()\n",
    "run(model, env, env_reset, DEVICE)"
   ]
  },
  {
   "cell_type": "code",
   "execution_count": null,
   "id": "3a8f8c68",
   "metadata": {},
   "outputs": [],
   "source": []
  }
 ],
 "metadata": {
  "kernelspec": {
   "display_name": "Python 3 (ipykernel)",
   "language": "python",
   "name": "python3"
  },
  "language_info": {
   "codemirror_mode": {
    "name": "ipython",
    "version": 3
   },
   "file_extension": ".py",
   "mimetype": "text/x-python",
   "name": "python",
   "nbconvert_exporter": "python",
   "pygments_lexer": "ipython3",
   "version": "3.9.7"
  }
 },
 "nbformat": 4,
 "nbformat_minor": 5
}
