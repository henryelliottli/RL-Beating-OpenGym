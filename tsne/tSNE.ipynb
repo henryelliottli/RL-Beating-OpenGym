{
 "cells": [
  {
   "cell_type": "code",
   "execution_count": 1,
   "id": "f9804429",
   "metadata": {},
   "outputs": [],
   "source": [
    "from torch import nn\n",
    "import torch\n",
    "import itertools\n",
    "import numpy as np\n",
    "import random\n",
    "import gym\n",
    "import os\n",
    "from collections import deque\n",
    "from sklearn.manifold import TSNE\n",
    "from matplotlib import cm\n",
    "import matplotlib.pyplot as plt"
   ]
  },
  {
   "cell_type": "code",
   "execution_count": 2,
   "id": "9d70150e",
   "metadata": {},
   "outputs": [],
   "source": [
    "def create_random_obs(env, num_frames, num_samples, device):\n",
    "    obs = env.reset()\n",
    "    frames = deque(maxlen=num_frames)\n",
    "    samples = []\n",
    "    for _ in range(num_samples):\n",
    "        action = env.action_space.sample()\n",
    "    \n",
    "        new_obs, rew, done, _ = env.step(action)\n",
    "        transition = (obs, action, rew, done, new_obs)\n",
    "        samples.append(transition)\n",
    "        obs_t = torch.as_tensor(obs, dtype=torch.float32).to(device)\n",
    "        frames.append(obs_t)\n",
    "        obs = new_obs\n",
    "    \n",
    "        if done:\n",
    "            obs = env.reset()\n",
    "    return samples"
   ]
  },
  {
   "cell_type": "code",
   "execution_count": 3,
   "id": "2fe12ad2",
   "metadata": {},
   "outputs": [],
   "source": [
    "def action_for_obs(samples, network, device):\n",
    "    q_values_action = []\n",
    "    for sample in samples:\n",
    "        obs = sample[0]\n",
    "        obs = torch.as_tensor(obs, dtype=torch.float32).to(device)\n",
    "        q_values = network(obs)\n",
    "        pred_action = torch.argmax(q_values)\n",
    "        q_values_action.append((q_values, pred_action))\n",
    "    return q_values_action"
   ]
  },
  {
   "cell_type": "code",
   "execution_count": 4,
   "id": "a821a57d",
   "metadata": {},
   "outputs": [],
   "source": [
    "def create_tsne_plot(q_values_action):\n",
    "    q_values = [q.detach().numpy() for q, act in q_values_action]\n",
    "    tsne = TSNE(2)\n",
    "    tsne_proj = tsne.fit_transform(q_values)\n",
    "    cmap = cm.get_cmap('tab20')\n",
    "\n",
    "    fig, ax = plt.subplots(figsize=(8, 8))\n",
    "    num_actions = len(q_values_action[0][0])\n",
    "    actions = np.array([act for q, act in q_values_action])\n",
    "\n",
    "    for lab in range(num_actions):\n",
    "        indices = actions == lab\n",
    "        ax.scatter(tsne_proj[indices, 0], tsne_proj[indices, 1], \n",
    "               c = np.array(cmap(lab)).reshape(1, 4),\n",
    "               label = lab, \n",
    "               alpha = .5\n",
    "              )\n",
    "    \n",
    "    ax.legend(fontsize='large', markerscale=2)\n",
    "    plt.show()\n",
    "    return"
   ]
  },
  {
   "cell_type": "code",
   "execution_count": 5,
   "id": "e417a929",
   "metadata": {},
   "outputs": [],
   "source": [
    "def run(network, env, device, num_frame = 100000, num_samples = 1000):\n",
    "    samples = create_random_obs(env, num_frame, num_samples, device)\n",
    "    q_values_action = action_for_obs(samples, network, device)\n",
    "    create_tsne_plot(q_values_action)"
   ]
  }
 ],
 "metadata": {
  "kernelspec": {
   "display_name": "Python 3 (ipykernel)",
   "language": "python",
   "name": "python3"
  },
  "language_info": {
   "codemirror_mode": {
    "name": "ipython",
    "version": 3
   },
   "file_extension": ".py",
   "mimetype": "text/x-python",
   "name": "python",
   "nbconvert_exporter": "python",
   "pygments_lexer": "ipython3",
   "version": "3.9.7"
  }
 },
 "nbformat": 4,
 "nbformat_minor": 5
}
